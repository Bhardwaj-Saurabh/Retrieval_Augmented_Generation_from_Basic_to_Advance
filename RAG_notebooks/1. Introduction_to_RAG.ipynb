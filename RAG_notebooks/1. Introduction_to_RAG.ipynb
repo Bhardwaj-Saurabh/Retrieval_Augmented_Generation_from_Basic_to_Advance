{
 "cells": [
  {
   "cell_type": "markdown",
   "id": "c69fbdef",
   "metadata": {},
   "source": [
    "# Using OpenAI API for text completion"
   ]
  },
  {
   "cell_type": "markdown",
   "id": "ceba49aa",
   "metadata": {},
   "source": [
    "![](../images/llm_interaction.png)"
   ]
  },
  {
   "cell_type": "code",
   "execution_count": null,
   "id": "8ee20007",
   "metadata": {},
   "outputs": [],
   "source": [
    "# import necessary libraries\n",
    "import os\n",
    "from openai import OpenAI\n",
    "from IPython.display import Markdown, display"
   ]
  },
  {
   "cell_type": "code",
   "execution_count": null,
   "id": "e1e7d7cc",
   "metadata": {},
   "outputs": [],
   "source": [
    "# Set up OpenAI API client\n",
    "OPENAI_API_KEY = os.getenv(\"OPENAI_API_KEY\")\n",
    "\n",
    "# Initialize the OpenAI client\n",
    "client = OpenAI()"
   ]
  },
  {
   "cell_type": "code",
   "execution_count": null,
   "id": "a9c62f50",
   "metadata": {},
   "outputs": [],
   "source": [
    "# prmot for LLM\n",
    "prompt = \"explain RAG in 2 lines\""
   ]
  },
  {
   "cell_type": "code",
   "execution_count": null,
   "id": "000f4d70",
   "metadata": {},
   "outputs": [],
   "source": [
    "# Call the OpenAI API to get a response\n",
    "response = client.chat.completions.create(\n",
    "    model=\"gpt-4o-mini\",\n",
    "    messages=[\n",
    "        {\"role\": \"user\", \"content\": prompt}\n",
    "    ],\n",
    "    temperature=0\n",
    ")"
   ]
  },
  {
   "cell_type": "code",
   "execution_count": null,
   "id": "8c28c6a6",
   "metadata": {},
   "outputs": [
    {
     "data": {
      "text/markdown": [
       "RAG, or Retrieval-Augmented Generation, is a machine learning approach that combines information retrieval with natural language generation. It enhances the generation of text by retrieving relevant documents or data from a knowledge base to provide more accurate and contextually rich responses."
      ],
      "text/plain": [
       "<IPython.core.display.Markdown object>"
      ]
     },
     "execution_count": 19,
     "metadata": {},
     "output_type": "execute_result"
    }
   ],
   "source": [
    "# Extract and Display the response\n",
    "answer = response.choices[0].message.content\n",
    "Markdown(answer)"
   ]
  },
  {
   "cell_type": "code",
   "execution_count": null,
   "id": "780c407d",
   "metadata": {},
   "outputs": [],
   "source": []
  }
 ],
 "metadata": {
  "kernelspec": {
   "display_name": "Retrieval_Augmented_Generation_from_Basic_to_Advance",
   "language": "python",
   "name": "python3"
  },
  "language_info": {
   "codemirror_mode": {
    "name": "ipython",
    "version": 3
   },
   "file_extension": ".py",
   "mimetype": "text/x-python",
   "name": "python",
   "nbconvert_exporter": "python",
   "pygments_lexer": "ipython3",
   "version": "3.11.4"
  }
 },
 "nbformat": 4,
 "nbformat_minor": 5
}
